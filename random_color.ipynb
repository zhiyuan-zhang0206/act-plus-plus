{
 "cells": [
  {
   "cell_type": "code",
   "execution_count": 2,
   "metadata": {},
   "outputs": [],
   "source": [
    "import numpy as np\n",
    "def get_interpolated_colors(color1, color2, num=4):\n",
    "    return [((1-t)*color1 + t*color2).tolist() for t in np.linspace(0, 1, num)]"
   ]
  },
  {
   "cell_type": "code",
   "execution_count": 15,
   "metadata": {},
   "outputs": [
    {
     "name": "stdout",
     "output_type": "stream",
     "text": [
      "0.300 0.300 0.300\n",
      "0.254 0.450 0.255\n",
      "0.208 0.600 0.209\n",
      "0.162 0.750 0.164\n"
     ]
    }
   ],
   "source": [
    "# Define the starting and ending colors\n",
    "s = \"0.3 0.3 0.3\"\n",
    "color1 = np.array(list(map(float, s.split(\" \"))))\n",
    "color2 = np.random.rand(3)\n",
    "interpolated_colors = get_interpolated_colors(color1, color2)\n",
    "for color in interpolated_colors:\n",
    "    print(\" \".join(f\"{value:.3f}\" for value in color))"
   ]
  }
 ],
 "metadata": {
  "kernelspec": {
   "display_name": "zzy-rtx",
   "language": "python",
   "name": "python3"
  },
  "language_info": {
   "codemirror_mode": {
    "name": "ipython",
    "version": 3
   },
   "file_extension": ".py",
   "mimetype": "text/x-python",
   "name": "python",
   "nbconvert_exporter": "python",
   "pygments_lexer": "ipython3",
   "version": "3.10.13"
  }
 },
 "nbformat": 4,
 "nbformat_minor": 2
}
